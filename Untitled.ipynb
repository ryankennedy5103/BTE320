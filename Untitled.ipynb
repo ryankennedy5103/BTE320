{
  "nbformat": 4,
  "nbformat_minor": 0,
  "metadata": {
    "colab": {
      "provenance": [],
      "authorship_tag": "ABX9TyOEpROoP1wxjF5M5BccORCp",
      "include_colab_link": true
    },
    "kernelspec": {
      "name": "python3",
      "display_name": "Python 3"
    },
    "language_info": {
      "name": "python"
    }
  },
  "cells": [
    {
      "cell_type": "markdown",
      "metadata": {
        "id": "view-in-github",
        "colab_type": "text"
      },
      "source": [
        "<a href=\"https://colab.research.google.com/github/ryankennedy5103/BTE320/blob/main/Untitled.ipynb\" target=\"_parent\"><img src=\"https://colab.research.google.com/assets/colab-badge.svg\" alt=\"Open In Colab\"/></a>"
      ]
    },
    {
      "cell_type": "code",
      "execution_count": null,
      "metadata": {
        "id": "jzuF0O3q_Pw1"
      },
      "outputs": [],
      "source": [
        "names = {}\n",
        "\n",
        "for i in range(5):\n",
        "  name = input(\"Enter a name: \")\n",
        "\n",
        "  if name in names:\n",
        "    names[name] = names[name] + 1\n",
        "  else:\n",
        "    names[name] = 1\n",
        "\n",
        "print(names)"
      ]
    },
    {
      "cell_type": "code",
      "metadata": {
        "id": "19902709"
      },
      "source": [],
      "execution_count": null,
      "outputs": []
    }
  ]
}