{
  "nbformat": 4,
  "nbformat_minor": 0,
  "metadata": {
    "colab": {
      "provenance": [],
      "authorship_tag": "ABX9TyPQ0zp6usBS3KPVjRgLwnVU",
      "include_colab_link": true
    },
    "kernelspec": {
      "name": "python3",
      "display_name": "Python 3"
    },
    "language_info": {
      "name": "python"
    }
  },
  "cells": [
    {
      "cell_type": "markdown",
      "metadata": {
        "id": "view-in-github",
        "colab_type": "text"
      },
      "source": [
        "<a href=\"https://colab.research.google.com/github/ryankennedy5103/BTE320/blob/main/Untitled9.ipynb\" target=\"_parent\"><img src=\"https://colab.research.google.com/assets/colab-badge.svg\" alt=\"Open In Colab\"/></a>"
      ]
    },
    {
      "cell_type": "code",
      "execution_count": 6,
      "metadata": {
        "colab": {
          "base_uri": "https://localhost:8080/"
        },
        "id": "c9dU4KO_5qbE",
        "outputId": "836a3559-61f4-43b6-981a-f3e59491f6c3"
      },
      "outputs": [
        {
          "output_type": "stream",
          "name": "stdout",
          "text": [
            "Enter Product ID:p-02\n",
            "Product ID p-02 not found\n"
          ]
        }
      ],
      "source": [
        "products = {\n",
        "    'P-01': 9.95,\n",
        "    'P-02': 10.5\n",
        "}\n",
        "\n",
        "id = input(\"Enter Product ID:\")\n",
        "\n",
        "if id in products:\n",
        "    print(f'products[id]: {id}, Price: {products[id]}$')\n",
        "else:\n",
        "    print(f'Product ID {id} not found')\n"
      ]
    },
    {
      "cell_type": "code",
      "source": [],
      "metadata": {
        "id": "MCNlXBns7So0"
      },
      "execution_count": null,
      "outputs": []
    }
  ]
}