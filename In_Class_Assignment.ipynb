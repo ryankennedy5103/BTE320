{
  "nbformat": 4,
  "nbformat_minor": 0,
  "metadata": {
    "colab": {
      "provenance": [],
      "authorship_tag": "ABX9TyOCUgEHT/V+2wQF/AlPxDCl",
      "include_colab_link": true
    },
    "kernelspec": {
      "name": "python3",
      "display_name": "Python 3"
    },
    "language_info": {
      "name": "python"
    }
  },
  "cells": [
    {
      "cell_type": "markdown",
      "metadata": {
        "id": "view-in-github",
        "colab_type": "text"
      },
      "source": [
        "<a href=\"https://colab.research.google.com/github/ryankennedy5103/BTE320/blob/main/In_Class_Assignment.ipynb\" target=\"_parent\"><img src=\"https://colab.research.google.com/assets/colab-badge.svg\" alt=\"Open In Colab\"/></a>"
      ]
    },
    {
      "cell_type": "code",
      "execution_count": null,
      "metadata": {
        "id": "G1AMVqOaj7Fg"
      },
      "outputs": [],
      "source": [
        "sales = float(input('Enter sales($):'))\n",
        "print(f'Sales: ${sales}')\n",
        "\n",
        "tax_rate = float(input('Enter tax rate(%):'))\n",
        "print(f'Tax rate: {tax_rate}%')\n",
        "\n",
        "#Cost of Goods Sold\n",
        "cogs = 0.4\n",
        "\n",
        "#Gross Profit\n",
        "gross_profit = sales - (cogs * sales)\n",
        "\n",
        "#taxes\n",
        "tax = gross_profit * (tax_rate / 100) # Calculate tax here\n",
        "\n",
        "#NetIncome\n",
        "net_income = gross_profit - tax # Use the calculated tax\n",
        "\n",
        "print(f'Tax: ${tax}')\n",
        "print(f'Gross profit: ${gross_profit}')\n",
        "print(f'Net Income: ${net_income}')"
      ]
    }
  ]
}