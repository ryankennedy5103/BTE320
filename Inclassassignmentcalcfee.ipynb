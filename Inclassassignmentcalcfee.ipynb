{
  "nbformat": 4,
  "nbformat_minor": 0,
  "metadata": {
    "colab": {
      "provenance": [],
      "authorship_tag": "ABX9TyMwvZ/fU7YJ726cIWBTZDFx",
      "include_colab_link": true
    },
    "kernelspec": {
      "name": "python3",
      "display_name": "Python 3"
    },
    "language_info": {
      "name": "python"
    }
  },
  "cells": [
    {
      "cell_type": "markdown",
      "metadata": {
        "id": "view-in-github",
        "colab_type": "text"
      },
      "source": [
        "<a href=\"https://colab.research.google.com/github/ryankennedy5103/BTE320/blob/main/Inclassassignmentcalcfee.ipynb\" target=\"_parent\"><img src=\"https://colab.research.google.com/assets/colab-badge.svg\" alt=\"Open In Colab\"/></a>"
      ]
    },
    {
      "cell_type": "code",
      "execution_count": 5,
      "metadata": {
        "id": "S9fffoTIzRkc"
      },
      "outputs": [],
      "source": [
        "def calcFee(h):\n",
        "  fee = 5 + 2.5 * h\n",
        "  if fee < 10:\n",
        "    return 10.0\n",
        "  elif fee > 20:\n",
        "    return 20.0\n",
        "  else:\n",
        "    return fee\n",
        "\n",
        "def main():\n",
        "  hours = int(input('Enter number of hours: '))\n",
        "  fee = calcFee(hours)\n",
        "  print(fee)\n",
        "\n",
        "main()"
      ]
    },
    {
      "cell_type": "code",
      "source": [],
      "metadata": {
        "id": "sFLdJElf2Y3l"
      },
      "execution_count": null,
      "outputs": []
    }
  ]
}